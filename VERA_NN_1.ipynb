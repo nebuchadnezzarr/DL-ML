{
  "nbformat": 4,
  "nbformat_minor": 0,
  "metadata": {
    "colab": {
      "name": "VERA_NN_1.ipynb",
      "version": "0.3.2",
      "provenance": [],
      "include_colab_link": true
    },
    "kernelspec": {
      "name": "python3",
      "display_name": "Python 3"
    },
    "accelerator": "GPU"
  },
  "cells": [
    {
      "cell_type": "markdown",
      "metadata": {
        "id": "view-in-github",
        "colab_type": "text"
      },
      "source": [
        "<a href=\"https://colab.research.google.com/github/nebuchadnezzarr/DL-ML/blob/master/VERA_NN_1.ipynb\" target=\"_parent\"><img src=\"https://colab.research.google.com/assets/colab-badge.svg\" alt=\"Open In Colab\"/></a>"
      ]
    },
    {
      "cell_type": "markdown",
      "metadata": {
        "id": "TvICUuB7ZXEb",
        "colab_type": "text"
      },
      "source": [
        "# Импорт библиотек для работы"
      ]
    },
    {
      "cell_type": "code",
      "metadata": {
        "id": "zDiIRFUw6DDl",
        "colab_type": "code",
        "outputId": "3345443f-84a5-444f-c557-8623d4b55616",
        "colab": {
          "base_uri": "https://localhost:8080/",
          "height": 34
        }
      },
      "source": [
        "import numpy as np\n",
        "from keras.datasets import cifar10\n",
        "from keras.models import Sequential\n",
        "from keras.layers import Dense, Flatten, Activation\n",
        "from keras.layers import Dropout\n",
        "from keras.layers.convolutional import Conv2D, MaxPooling2D\n",
        "from keras.utils import np_utils\n",
        "from keras.optimizers import SGD\n",
        "import random\n"
      ],
      "execution_count": 0,
      "outputs": [
        {
          "output_type": "stream",
          "text": [
            "Using TensorFlow backend.\n"
          ],
          "name": "stderr"
        }
      ]
    },
    {
      "cell_type": "code",
      "metadata": {
        "id": "W8nxJOAl6LLE",
        "colab_type": "code",
        "colab": {}
      },
      "source": [
        "# Задаем seed для повторяемости результатов\n",
        "np.random.seed(42)\n"
      ],
      "execution_count": 0,
      "outputs": []
    },
    {
      "cell_type": "markdown",
      "metadata": {
        "id": "0aqiil9EZd5E",
        "colab_type": "text"
      },
      "source": [
        ""
      ]
    },
    {
      "cell_type": "code",
      "metadata": {
        "id": "oTqufRPb6qL1",
        "colab_type": "code",
        "outputId": "618796a7-9de7-45b1-aaba-bffe46daf4f2",
        "colab": {
          "base_uri": "https://localhost:8080/",
          "height": 51
        }
      },
      "source": [
        "(x_train, y_train), (x_test, y_test) = cifar10.load_data() # fetch CIFAR-10 data\n",
        "\n",
        "# Размер мини-выборки\n",
        "batch_size = 32\n",
        "# Количество классов изображений\n",
        "nb_classes = 10\n",
        "# Количество эпох для обучения\n",
        "nb_epoch = 25\n",
        "# Размер изображений\n",
        "img_rows, img_cols = 32, 32\n",
        "# Количество каналов в изображении: RGB\n",
        "img_channels = 3\n",
        "\n"
      ],
      "execution_count": 0,
      "outputs": [
        {
          "output_type": "stream",
          "text": [
            "Downloading data from https://www.cs.toronto.edu/~kriz/cifar-10-python.tar.gz\n",
            "170500096/170498071 [==============================] - 2s 0us/step\n"
          ],
          "name": "stdout"
        }
      ]
    },
    {
      "cell_type": "code",
      "metadata": {
        "id": "UMjVYjmm7ybu",
        "colab_type": "code",
        "colab": {}
      },
      "source": [
        "# Нормализуем данные\n",
        "x_train = x_train.astype('float32')\n",
        "x_test = x_test.astype('float32')\n",
        "x_train /= 255\n",
        "x_test /= 255\n"
      ],
      "execution_count": 0,
      "outputs": []
    },
    {
      "cell_type": "code",
      "metadata": {
        "id": "tqQjWLZf7zVj",
        "colab_type": "code",
        "colab": {}
      },
      "source": [
        "# Преобразуем метки в категории\n",
        "y_train = np_utils.to_categorical(y_train, nb_classes)\n",
        "y_test = np_utils.to_categorical(y_test, nb_classes)\n"
      ],
      "execution_count": 0,
      "outputs": []
    },
    {
      "cell_type": "code",
      "metadata": {
        "id": "4ebPIlKA71LQ",
        "colab_type": "code",
        "outputId": "3c03d3c0-0bf0-4433-d56b-4ce0ae6b0100",
        "colab": {
          "base_uri": "https://localhost:8080/",
          "height": 275
        }
      },
      "source": [
        "# Создаем последовательную модель\n",
        "model = Sequential()\n",
        "# Первый сверточный слой\n",
        "model.add(Conv2D(32, (3, 3), padding='same',\n",
        "                        input_shape=(32, 32, 3), activation='relu'))\n",
        "# Второй сверточный слой\n",
        "model.add(Conv2D(32, (3, 3), activation='relu', padding='same'))\n",
        "# Первый слой подвыборки\n",
        "model.add(MaxPooling2D(pool_size=(2, 2)))\n",
        "# Слой регуляризации Dropout\n",
        "model.add(Dropout(0.25))\n",
        "\n",
        "# Третий сверточный слой\n",
        "model.add(Conv2D(64, (3, 3), padding='same', activation='relu'))\n",
        "# Четвертый сверточный слой\n",
        "model.add(Conv2D(64, (3, 3), activation='relu'))\n",
        "# Второй слой подвыборки\n",
        "model.add(MaxPooling2D(pool_size=(2, 2)))\n",
        "# Слой регуляризации Dropout\n",
        "model.add(Dropout(0.25))\n",
        "# Слой преобразования данных из 2D представления в плоское\n",
        "model.add(Flatten())\n",
        "# Полносвязный слой для классификации\n",
        "model.add(Dense(512, activation='relu'))\n",
        "# Слой регуляризации Dropout\n",
        "model.add(Dropout(0.5))\n",
        "# Выходной полносвязный слой\n",
        "model.add(Dense(nb_classes, activation='softmax'))\n",
        "\n"
      ],
      "execution_count": 0,
      "outputs": [
        {
          "output_type": "stream",
          "text": [
            "WARNING: Logging before flag parsing goes to stderr.\n",
            "W0815 07:20:20.839920 140215468603264 deprecation_wrapper.py:119] From /usr/local/lib/python3.6/dist-packages/keras/backend/tensorflow_backend.py:74: The name tf.get_default_graph is deprecated. Please use tf.compat.v1.get_default_graph instead.\n",
            "\n",
            "W0815 07:20:20.880304 140215468603264 deprecation_wrapper.py:119] From /usr/local/lib/python3.6/dist-packages/keras/backend/tensorflow_backend.py:517: The name tf.placeholder is deprecated. Please use tf.compat.v1.placeholder instead.\n",
            "\n",
            "W0815 07:20:20.887158 140215468603264 deprecation_wrapper.py:119] From /usr/local/lib/python3.6/dist-packages/keras/backend/tensorflow_backend.py:4138: The name tf.random_uniform is deprecated. Please use tf.random.uniform instead.\n",
            "\n",
            "W0815 07:20:20.924147 140215468603264 deprecation_wrapper.py:119] From /usr/local/lib/python3.6/dist-packages/keras/backend/tensorflow_backend.py:3976: The name tf.nn.max_pool is deprecated. Please use tf.nn.max_pool2d instead.\n",
            "\n",
            "W0815 07:20:20.928692 140215468603264 deprecation_wrapper.py:119] From /usr/local/lib/python3.6/dist-packages/keras/backend/tensorflow_backend.py:133: The name tf.placeholder_with_default is deprecated. Please use tf.compat.v1.placeholder_with_default instead.\n",
            "\n",
            "W0815 07:20:20.937276 140215468603264 deprecation.py:506] From /usr/local/lib/python3.6/dist-packages/keras/backend/tensorflow_backend.py:3445: calling dropout (from tensorflow.python.ops.nn_ops) with keep_prob is deprecated and will be removed in a future version.\n",
            "Instructions for updating:\n",
            "Please use `rate` instead of `keep_prob`. Rate should be set to `rate = 1 - keep_prob`.\n"
          ],
          "name": "stderr"
        }
      ]
    },
    {
      "cell_type": "code",
      "metadata": {
        "id": "iQwo7sqo74Rw",
        "colab_type": "code",
        "outputId": "f0486664-b0e0-4ce1-8704-b27a49186884",
        "colab": {
          "base_uri": "https://localhost:8080/",
          "height": 105
        }
      },
      "source": [
        "# Задаем параметры оптимизации\n",
        "sgd = SGD(lr=0.01, decay=1e-6, momentum=0.9, nesterov=True)\n",
        "model.compile(loss='categorical_crossentropy',\n",
        "              optimizer=sgd,\n",
        "              metrics=['accuracy'])\n"
      ],
      "execution_count": 0,
      "outputs": [
        {
          "output_type": "stream",
          "text": [
            "W0815 07:20:23.480503 140215468603264 deprecation_wrapper.py:119] From /usr/local/lib/python3.6/dist-packages/keras/optimizers.py:790: The name tf.train.Optimizer is deprecated. Please use tf.compat.v1.train.Optimizer instead.\n",
            "\n",
            "W0815 07:20:23.488861 140215468603264 deprecation_wrapper.py:119] From /usr/local/lib/python3.6/dist-packages/keras/backend/tensorflow_backend.py:3295: The name tf.log is deprecated. Please use tf.math.log instead.\n",
            "\n"
          ],
          "name": "stderr"
        }
      ]
    },
    {
      "cell_type": "code",
      "metadata": {
        "id": "ck7LomBk76Rb",
        "colab_type": "code",
        "outputId": "e4ec5f4c-1aca-4062-de96-4910f3400b6b",
        "colab": {
          "base_uri": "https://localhost:8080/",
          "height": 972
        }
      },
      "source": [
        "# Обучаем модель\n",
        "model.fit(x_train, y_train,\n",
        "              batch_size=batch_size,\n",
        "              epochs=nb_epoch,\n",
        "              validation_split=0.1,\n",
        "              shuffle=True,\n",
        "              verbose=2)\n"
      ],
      "execution_count": 0,
      "outputs": [
        {
          "output_type": "stream",
          "text": [
            "W0815 07:20:25.047732 140215468603264 deprecation.py:323] From /usr/local/lib/python3.6/dist-packages/tensorflow/python/ops/math_grad.py:1250: add_dispatch_support.<locals>.wrapper (from tensorflow.python.ops.array_ops) is deprecated and will be removed in a future version.\n",
            "Instructions for updating:\n",
            "Use tf.where in 2.0, which has the same broadcast rule as np.where\n"
          ],
          "name": "stderr"
        },
        {
          "output_type": "stream",
          "text": [
            "Train on 45000 samples, validate on 5000 samples\n",
            "Epoch 1/25\n",
            " - 16s - loss: 1.7746 - acc: 0.3442 - val_loss: 1.3452 - val_acc: 0.5054\n",
            "Epoch 2/25\n",
            " - 8s - loss: 1.3112 - acc: 0.5285 - val_loss: 1.0948 - val_acc: 0.6202\n",
            "Epoch 3/25\n",
            " - 8s - loss: 1.1455 - acc: 0.5932 - val_loss: 1.2366 - val_acc: 0.5676\n",
            "Epoch 4/25\n",
            " - 8s - loss: 1.0234 - acc: 0.6371 - val_loss: 0.9070 - val_acc: 0.6830\n",
            "Epoch 5/25\n",
            " - 8s - loss: 0.9436 - acc: 0.6664 - val_loss: 0.8358 - val_acc: 0.7152\n",
            "Epoch 6/25\n",
            " - 8s - loss: 0.8752 - acc: 0.6923 - val_loss: 0.7786 - val_acc: 0.7302\n",
            "Epoch 7/25\n",
            " - 8s - loss: 0.8327 - acc: 0.7072 - val_loss: 0.7323 - val_acc: 0.7482\n",
            "Epoch 8/25\n",
            " - 8s - loss: 0.7901 - acc: 0.7220 - val_loss: 0.7189 - val_acc: 0.7534\n",
            "Epoch 9/25\n",
            " - 8s - loss: 0.7644 - acc: 0.7336 - val_loss: 0.7435 - val_acc: 0.7430\n",
            "Epoch 10/25\n",
            " - 8s - loss: 0.7259 - acc: 0.7448 - val_loss: 0.7678 - val_acc: 0.7390\n",
            "Epoch 11/25\n",
            " - 8s - loss: 0.7147 - acc: 0.7498 - val_loss: 0.7409 - val_acc: 0.7460\n",
            "Epoch 12/25\n",
            " - 8s - loss: 0.6915 - acc: 0.7582 - val_loss: 0.7336 - val_acc: 0.7558\n",
            "Epoch 13/25\n",
            " - 8s - loss: 0.6659 - acc: 0.7684 - val_loss: 0.6759 - val_acc: 0.7720\n",
            "Epoch 14/25\n",
            " - 8s - loss: 0.6539 - acc: 0.7734 - val_loss: 0.6947 - val_acc: 0.7606\n",
            "Epoch 15/25\n",
            " - 8s - loss: 0.6408 - acc: 0.7778 - val_loss: 0.6841 - val_acc: 0.7668\n",
            "Epoch 16/25\n",
            " - 8s - loss: 0.6284 - acc: 0.7814 - val_loss: 0.6958 - val_acc: 0.7658\n",
            "Epoch 17/25\n",
            " - 8s - loss: 0.6147 - acc: 0.7865 - val_loss: 0.6754 - val_acc: 0.7784\n",
            "Epoch 18/25\n",
            " - 8s - loss: 0.6084 - acc: 0.7889 - val_loss: 0.6480 - val_acc: 0.7852\n",
            "Epoch 19/25\n",
            " - 8s - loss: 0.6004 - acc: 0.7938 - val_loss: 0.6379 - val_acc: 0.7866\n",
            "Epoch 20/25\n",
            " - 8s - loss: 0.5906 - acc: 0.7973 - val_loss: 0.6769 - val_acc: 0.7740\n",
            "Epoch 21/25\n",
            " - 8s - loss: 0.5879 - acc: 0.8001 - val_loss: 0.6705 - val_acc: 0.7840\n",
            "Epoch 22/25\n",
            " - 8s - loss: 0.5740 - acc: 0.8002 - val_loss: 0.6858 - val_acc: 0.7734\n",
            "Epoch 23/25\n",
            " - 8s - loss: 0.5755 - acc: 0.8019 - val_loss: 0.7130 - val_acc: 0.7682\n",
            "Epoch 24/25\n",
            " - 8s - loss: 0.5597 - acc: 0.8062 - val_loss: 0.7561 - val_acc: 0.7554\n",
            "Epoch 25/25\n",
            " - 8s - loss: 0.5834 - acc: 0.8002 - val_loss: 0.6965 - val_acc: 0.7744\n"
          ],
          "name": "stdout"
        },
        {
          "output_type": "execute_result",
          "data": {
            "text/plain": [
              "<keras.callbacks.History at 0x7f862a10f128>"
            ]
          },
          "metadata": {
            "tags": []
          },
          "execution_count": 9
        }
      ]
    },
    {
      "cell_type": "code",
      "metadata": {
        "id": "AIMn990779gA",
        "colab_type": "code",
        "outputId": "d179231c-24b0-4c15-bb31-a1232dc0d875",
        "colab": {
          "base_uri": "https://localhost:8080/",
          "height": 34
        }
      },
      "source": [
        "# Оцениваем качество обучения модели на тестовых данных\n",
        "scores = model.evaluate(x_test, y_test, verbose=0)\n",
        "print(\"Точность работы на тестовых данных: %.2f%%\" % (scores[1]*100))\n",
        "\n"
      ],
      "execution_count": 0,
      "outputs": [
        {
          "output_type": "stream",
          "text": [
            "Точность работы на тестовых данных: 75.88%\n"
          ],
          "name": "stdout"
        }
      ]
    },
    {
      "cell_type": "code",
      "metadata": {
        "id": "eWcZ9OKk7_wR",
        "colab_type": "code",
        "colab": {}
      },
      "source": [
        "# Сохраняем веса модели\n",
        "model_json=model.to_json()\n",
        "json_file=open(\"cifar10_1.json\",\"w\")\n",
        "json_file.write(model_json)\n",
        "json_file.close()\n",
        "model.save_weights(\"cifar10_model.h5\")\n"
      ],
      "execution_count": 0,
      "outputs": []
    },
    {
      "cell_type": "code",
      "metadata": {
        "id": "DSG-23a_8BD6",
        "colab_type": "code",
        "colab": {}
      },
      "source": [
        "#Загружаем модель\n",
        "from keras.models import model_from_json\n",
        "from keras.models import load_model\n",
        "json_file=open(\"cifar10_1.json\",\"r\")\n",
        "loaded_model_json=json_file.read()\n",
        "json_file.close()\n",
        "loaded_model = model_from_json(loaded_model_json)\n",
        "loaded_model.load_weights(\"cifar10_model.h5\")\n",
        "\n"
      ],
      "execution_count": 0,
      "outputs": []
    },
    {
      "cell_type": "code",
      "metadata": {
        "id": "JiBAiinn_7t5",
        "colab_type": "code",
        "colab": {}
      },
      "source": [
        "#Преобразуем выходные данные к категориям\n",
        "loaded_model.compile(loss='categorical_crossentropy',\n",
        "              optimizer=sgd,\n",
        "              metrics=['accuracy'])\n",
        "classes = ['самолёт','автомобиль','птица','кот','олень','собака','лягушка','лошадь','корабль','грузовик']\n"
      ],
      "execution_count": 0,
      "outputs": []
    },
    {
      "cell_type": "code",
      "metadata": {
        "id": "UOXj2Lfk_fqK",
        "colab_type": "code",
        "colab": {}
      },
      "source": [
        "#Тестирование\n",
        "import matplotlib.pyplot as plt\n",
        "%matplotlib inline\n"
      ],
      "execution_count": 0,
      "outputs": []
    },
    {
      "cell_type": "code",
      "metadata": {
        "id": "qJ_7vhBJAEVQ",
        "colab_type": "code",
        "outputId": "eb50b84c-cc4f-4a3f-d7f8-a34bc5c1abdb",
        "colab": {
          "base_uri": "https://localhost:8080/",
          "height": 231
        }
      },
      "source": [
        "index=7777\n",
        "plt.imshow(x_test[index])\n",
        "plt.show()\n",
        "x = x_test[index]\n",
        "x = np.expand_dims(x,axis=0)\n",
        "prediction = loaded_model.predict(x)\n",
        "prediction = np.argmax(prediction)\n",
        "print(classes[prediction])\n",
        "\n"
      ],
      "execution_count": 0,
      "outputs": [
        {
          "output_type": "error",
          "ename": "IndexError",
          "evalue": "ignored",
          "traceback": [
            "\u001b[0;31m---------------------------------------------------------------------------\u001b[0m",
            "\u001b[0;31mIndexError\u001b[0m                                Traceback (most recent call last)",
            "\u001b[0;32m<ipython-input-21-4c8817f68cdd>\u001b[0m in \u001b[0;36m<module>\u001b[0;34m()\u001b[0m\n\u001b[1;32m      1\u001b[0m \u001b[0mindex\u001b[0m\u001b[0;34m=\u001b[0m\u001b[0;36m77777\u001b[0m\u001b[0;34m\u001b[0m\u001b[0;34m\u001b[0m\u001b[0m\n\u001b[0;32m----> 2\u001b[0;31m \u001b[0mplt\u001b[0m\u001b[0;34m.\u001b[0m\u001b[0mimshow\u001b[0m\u001b[0;34m(\u001b[0m\u001b[0mx_test\u001b[0m\u001b[0;34m[\u001b[0m\u001b[0mindex\u001b[0m\u001b[0;34m]\u001b[0m\u001b[0;34m)\u001b[0m\u001b[0;34m\u001b[0m\u001b[0;34m\u001b[0m\u001b[0m\n\u001b[0m\u001b[1;32m      3\u001b[0m \u001b[0mplt\u001b[0m\u001b[0;34m.\u001b[0m\u001b[0mshow\u001b[0m\u001b[0;34m(\u001b[0m\u001b[0;34m)\u001b[0m\u001b[0;34m\u001b[0m\u001b[0;34m\u001b[0m\u001b[0m\n\u001b[1;32m      4\u001b[0m \u001b[0mx\u001b[0m \u001b[0;34m=\u001b[0m \u001b[0mx_test\u001b[0m\u001b[0;34m[\u001b[0m\u001b[0mindex\u001b[0m\u001b[0;34m]\u001b[0m\u001b[0;34m\u001b[0m\u001b[0;34m\u001b[0m\u001b[0m\n\u001b[1;32m      5\u001b[0m \u001b[0mx\u001b[0m \u001b[0;34m=\u001b[0m \u001b[0mnp\u001b[0m\u001b[0;34m.\u001b[0m\u001b[0mexpand_dims\u001b[0m\u001b[0;34m(\u001b[0m\u001b[0mx\u001b[0m\u001b[0;34m,\u001b[0m\u001b[0maxis\u001b[0m\u001b[0;34m=\u001b[0m\u001b[0;36m0\u001b[0m\u001b[0;34m)\u001b[0m\u001b[0;34m\u001b[0m\u001b[0;34m\u001b[0m\u001b[0m\n",
            "\u001b[0;31mIndexError\u001b[0m: index 77777 is out of bounds for axis 0 with size 10000"
          ]
        }
      ]
    }
  ]
}