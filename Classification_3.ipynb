{
  "nbformat": 4,
  "nbformat_minor": 0,
  "metadata": {
    "colab": {
      "name": "Кубошарики.ipynb",
      "version": "0.3.2",
      "provenance": [],
      "toc_visible": true,
      "include_colab_link": true
    },
    "kernelspec": {
      "name": "python3",
      "display_name": "Python 3"
    }
  },
  "cells": [
    {
      "cell_type": "markdown",
      "metadata": {
        "id": "view-in-github",
        "colab_type": "text"
      },
      "source": [
        "<a href=\"https://colab.research.google.com/github/nebuchadnezzarr/DL-ML/blob/master/Classification_3.ipynb\" target=\"_parent\"><img src=\"https://colab.research.google.com/assets/colab-badge.svg\" alt=\"Open In Colab\"/></a>"
      ]
    },
    {
      "cell_type": "markdown",
      "metadata": {
        "id": "wjsHSB7-5_j3",
        "colab_type": "text"
      },
      "source": [
        "##Установка библиотек\n",
        "Для работы с генерацией картинок удобно использоваться функции графического построения из библиотеки opencv; для дальнейшего обучения, оценки работоспособности системы будем использовать Keras и Scikit-Learn. \n",
        "Сама библиотека Scikit-Learn содержит очень удобные для оценки metrics и confusion matrix, а также использует в своей реализации NumPy массивы, поэтому будем ставим библиотеку NumPy."
      ]
    },
    {
      "cell_type": "code",
      "metadata": {
        "id": "FVv_McL454gR",
        "colab_type": "code",
        "colab": {}
      },
      "source": [
        "import numpy as np\n",
        "import os                                                    \n",
        "import itertools\n",
        "from IPython.display import SVG\n",
        "import cv2\n",
        "import matplotlib.pyplot as plt                             \n",
        "from PIL import Image\n",
        "import pylab\n",
        "from sklearn.metrics import classification_report, confusion_matrix\n",
        "from sklearn.metrics import accuracy_score\n",
        "from sklearn.metrics import classification_report\n",
        "from sklearn.preprocessing import MinMaxScaler\n",
        "from cv2 import imshow\n",
        "from google.colab.patches import cv2_imshow\n",
        "import random\n",
        "from random import randint"
      ],
      "execution_count": 0,
      "outputs": []
    },
    {
      "cell_type": "code",
      "metadata": {
        "id": "XIXKcHur9798",
        "colab_type": "code",
        "outputId": "f138357e-7b31-4706-f01c-c4a88376f168",
        "colab": {
          "base_uri": "https://localhost:8080/",
          "height": 34
        }
      },
      "source": [
        "import keras\n",
        "from keras.models import Sequential\n",
        "from keras.layers import Conv2D, Dense, Flatten, Activation \n",
        "from keras.layers import MaxPooling2D, Dropout, BatchNormalization\n",
        "from keras.utils.vis_utils import model_to_dot\n",
        "from keras.utils import plot_model\n",
        "from keras.preprocessing.image import ImageDataGenerator\n"
      ],
      "execution_count": 0,
      "outputs": [
        {
          "output_type": "stream",
          "text": [
            "Using TensorFlow backend.\n"
          ],
          "name": "stderr"
        }
      ]
    },
    {
      "cell_type": "markdown",
      "metadata": {
        "id": "vfGQ6wnL-QxL",
        "colab_type": "text"
      },
      "source": [
        "##Подготовка гугл диска для работы с датасетом\n",
        "Датасет будет хранится и использоваться для обучения нейронной сетью на гугл диске. \n",
        "Создание папок и директорий для хранения сгенерированных изображений."
      ]
    },
    {
      "cell_type": "code",
      "metadata": {
        "id": "t2NaRn94-b5D",
        "colab_type": "code",
        "outputId": "c8223b5d-2b8f-4a7c-8026-8230dbe89ccf",
        "colab": {
          "base_uri": "https://localhost:8080/",
          "height": 122
        }
      },
      "source": [
        "from google.colab import drive\n",
        "drive.mount('/content/gdrive/')\n",
        "\n",
        "\n",
        "!mkdir /content/gdrive/'My Drive'/SET\n",
        "!mkdir /content/gdrive/'My Drive'/SET/train\n",
        "!mkdir /content/gdrive/'My Drive'/SET/validation\n",
        "\n",
        "!mkdir /content/gdrive/'My Drive'/SET/train/Square\n",
        "!mkdir /content/gdrive/'My Drive'/SET/validation/Square\n",
        "\n",
        "!mkdir /content/gdrive/'My Drive'/SET/train/Circle\n",
        "!mkdir /content/gdrive/'My Drive'/SET/validation/Circle"
      ],
      "execution_count": 0,
      "outputs": [
        {
          "output_type": "stream",
          "text": [
            "Go to this URL in a browser: https://accounts.google.com/o/oauth2/auth?client_id=947318989803-6bn6qk8qdgf4n4g3pfee6491hc0brc4i.apps.googleusercontent.com&redirect_uri=urn%3Aietf%3Awg%3Aoauth%3A2.0%3Aoob&scope=email%20https%3A%2F%2Fwww.googleapis.com%2Fauth%2Fdocs.test%20https%3A%2F%2Fwww.googleapis.com%2Fauth%2Fdrive%20https%3A%2F%2Fwww.googleapis.com%2Fauth%2Fdrive.photos.readonly%20https%3A%2F%2Fwww.googleapis.com%2Fauth%2Fpeopleapi.readonly&response_type=code\n",
            "\n",
            "Enter your authorization code:\n",
            "··········\n",
            "Mounted at /content/gdrive/\n"
          ],
          "name": "stdout"
        }
      ]
    },
    {
      "cell_type": "markdown",
      "metadata": {
        "id": "BU0v7goU_hrz",
        "colab_type": "text"
      },
      "source": [
        "##Генерация изображений\n",
        "Для генерирования изображений датасета используются модули рисования circle для отрисовки кругов; \n",
        "Цвет взят ультрамодный \"mediumvioletred RGB (199,21,133)\"  - его перегоняем в BGR (133,21,199)"
      ]
    },
    {
      "cell_type": "code",
      "metadata": {
        "id": "xbHVxmzs-5ek",
        "colab_type": "code",
        "colab": {}
      },
      "source": [
        "#Набор изображений для обучения \n",
        "for i in range(200):\n",
        "  randR = randint(-2, 2) #Генерим рандомные значения в заданных диапазонах\n",
        "  rand = randint(-8, 8)\n",
        "  rand2 = randint(-20, 20)\n",
        "  img = np.zeros((64,32,3), np.uint8) #Создание матрицы из нулей заданного размера \n",
        "\n",
        "  img = cv2.circle(img,(16 + rand ,32 + rand2), 8 + randR, (0, 0, 255), -1);        \n",
        "  img = cv2.circle(img,(16 + rand ,32 + rand2), 5 + randR, (133,21,199), -1);\n",
        "  img = cv2.circle(img,(16 + rand ,32 + rand2), 2 + randR, (133,21,199), -1);\n",
        "\n",
        "  img_flip = cv2.flip(img, flipCode=1)\n",
        "\n",
        "  vis = np.concatenate((img, img_flip), axis=1)\n",
        "  vis = cv2.GaussianBlur(vis,(11,11),0)\n",
        "  \n",
        "  cv2.imwrite('/content/gdrive/' + 'My Drive' + '/SET' + '/train'+ '/Circle' + '/circle'+ str(i) +'.jpg', vis) #сохраняем полученные круги \n",
        "  \n",
        "  \n",
        "for i in range(200):\n",
        "  img2 = np.zeros((64, 64, 3), np.uint8) #Аналогично для квадрата\n",
        "\n",
        "  for x in range(64):\n",
        "    for y in range(64):\n",
        "        rand1 = randint(-20, 20)\n",
        "        img2[x,y]=[133, 21, 199 + rand1]\n",
        "  \n",
        "  cv2.imwrite('/content/gdrive/' + 'My Drive' + '/SET' + '/train' + '/Square' + '/square'+ str(i) +'.jpg', img2) #сохраняем полученные квадраты\n",
        "\n",
        "\n",
        "for i in range(20):\n",
        "  randR = randint(-2, 2)\n",
        "  rand = randint(-8, 8)\n",
        "  rand2 = randint(-20, 20)\n",
        "  img = np.zeros((64,32,3), np.uint8)\n",
        "  \n",
        "  img = cv2.circle(img,(16 + rand ,32 + rand2), 8 + randR, (0, 0, 255), -1);\n",
        "  img = cv2.circle(img,(16 + rand ,32 + rand2), 5 + randR, (133,21,199), -1);\n",
        "  img = cv2.circle(img,(16 + rand ,32 + rand2), 2 + randR, (133,21,199), -1);\n",
        "\n",
        "  img_flip = cv2.flip(img, flipCode=1)\n",
        "\n",
        "  vis = np.concatenate((img, img_flip), axis=1)\n",
        "  vis = cv2.GaussianBlur(vis,(11,11),0)\n",
        "  \n",
        "  cv2.imwrite('/content/gdrive/' + 'My Drive' + '/SET' + '/validation' + '/Circle' + '/circleV' + str(i) + '.jpg', vis)\n",
        "  \n",
        "for i in range(20):\n",
        "  img2 = np.zeros((64, 64, 3), np.uint8)\n",
        "\n",
        "  for x in range(64):\n",
        "    for y in range(64):\n",
        "        rand1 = randint(-20, 20)\n",
        "        img2[x,y]=[133, 21, 199 + rand1]\n",
        "  \n",
        "  cv2.imwrite('/content/gdrive/' + 'My Drive' + '/SET' + '/validation' + '/Square' + '/squareV' + str(i) +'.jpg', img2)"
      ],
      "execution_count": 0,
      "outputs": []
    },
    {
      "cell_type": "code",
      "metadata": {
        "id": "RRSVYgpWXkp5",
        "colab_type": "code",
        "outputId": "ac951424-c686-4c43-ece4-b95a17f94d91",
        "colab": {
          "base_uri": "https://localhost:8080/",
          "height": 269
        }
      },
      "source": [
        "img = np.zeros((512,512,3), np.uint8)\n",
        "cv2.rectangle(img,(100,0),(510,128),(0,255,0),3)\n",
        "cv2.rectangle(img,(250, 70), (300,90), (255,0,0),3)\n",
        "\n",
        "plt.imshow(img)\n",
        "plt.show()"
      ],
      "execution_count": 0,
      "outputs": [
        {
          "output_type": "display_data",
          "data": {
            "image/png": "[encoded data removed]",
            "text/plain": [
              "<Figure size 432x288 with 1 Axes>"
            ]
          },
          "metadata": {
            "tags": []
          }
        }
      ]
    },
    {
      "cell_type": "markdown",
      "metadata": {
        "id": "73FxJr3pDQ9d",
        "colab_type": "text"
      },
      "source": [
        "##Параметры обучения\n",
        "В данном блоке указываем входные параметры, создаем списки бачей для тренировки и их параметры"
      ]
    },
    {
      "cell_type": "code",
      "metadata": {
        "id": "LMNhroF9Dp5O",
        "colab_type": "code",
        "outputId": "dbc09a4a-74cb-4889-fd85-609258e029f4",
        "colab": {
          "base_uri": "https://localhost:8080/",
          "height": 51
        }
      },
      "source": [
        "img_width, img_height = 64, 64 # Размеры изображения\n",
        "# Размерность тензора на основе изображения для входных данных в нейронную сеть \n",
        "input_shape = (img_width, img_height, 3)\n",
        "\n",
        "\n",
        "train_datagen = ImageDataGenerator( #создание объекта, задающего параметры аргументации для тренировки            \n",
        "            rescale = 1./255) #В нейронах будут хранится строго числа от 1 до 255\n",
        "\n",
        "\n",
        "train_generator = train_datagen.flow_from_directory(   #создание списка бачей для тренировки    \n",
        "            '/content/gdrive/My Drive/SET/train',      #место хранения тренировочного сета\n",
        "            target_size = (img_width, img_height),        #размер входного изображения\n",
        "            color_mode = 'rgb',        #принимаем на вход цветные изображения\n",
        "            batch_size = 10,           #Количество изображений в одном пакете \n",
        "            class_mode = 'binary'                   #бинарная классификация (2 класса)\n",
        "           )                                              \n",
        "\n",
        "\n",
        "test_datagen = ImageDataGenerator( #создание объекта, задающего параметры аугментации для валидации         \n",
        "            rescale = 1./255)\n",
        "\n",
        "\n",
        "test_generator = test_datagen.flow_from_directory( #создание списка бачей для валидации        \n",
        "            '/content/gdrive/My Drive/SET/validation',    #место хранения валидационного сета\n",
        "            target_size = (img_width, img_height), \n",
        "            color_mode = 'rgb', \n",
        "            batch_size = 10,\n",
        "            class_mode = 'binary',\n",
        "            shuffle=False\n",
        "            )"
      ],
      "execution_count": 0,
      "outputs": [
        {
          "output_type": "stream",
          "text": [
            "Found 400 images belonging to 2 classes.\n",
            "Found 40 images belonging to 2 classes.\n"
          ],
          "name": "stdout"
        }
      ]
    },
    {
      "cell_type": "markdown",
      "metadata": {
        "id": "P98lh9rmF9c-",
        "colab_type": "text"
      },
      "source": [
        "##Модель \n",
        "Тип расстановки слоев (последовательный), перечисление и задание параметров слоев.\n",
        "Оптимизатор градиентного спуска типа Адам, а такде вывод содержимого модели и ее архитектуры. \n",
        "Входной слой содержит изображения\n",
        "Maxpooling слой - выполняет процесс дискретизации на основе выборке, для того чтобы уменьшить входную выборку. Это делается для того,\n",
        "чтобы уменьшить размерность (число входных параметров), а также учесть допущения относительно свойств в выбранном фрагменте, а также\n",
        "для уменьшения вычислительных затрат. Осуществляется путем применения фильтра max к выбранному фрагменту. "
      ]
    },
    {
      "cell_type": "code",
      "metadata": {
        "id": "Fz2OBUbeGY8o",
        "colab_type": "code",
        "outputId": "a477625e-cb49-4668-bf26-8ac27abc62e2",
        "colab": {
          "base_uri": "https://localhost:8080/",
          "height": 700
        }
      },
      "source": [
        "model = Sequential()                                                                \n",
        "\n",
        "model.add(Conv2D(32, (5, 5), input_shape = input_shape, activation = 'relu'))         #входной слой\n",
        "model.add(BatchNormalization())\n",
        "model.add(MaxPooling2D(pool_size = (2, 2))) #Maxpooling слой \n",
        "\n",
        "model.add(Conv2D(32, (5, 5), activation = 'relu'))\n",
        "model.add(BatchNormalization())\n",
        "model.add(MaxPooling2D(pool_size = (2, 2)))\n",
        "\n",
        "model.add(Conv2D(64, (3, 3), activation = 'relu'))\n",
        "model.add(BatchNormalization())\n",
        "model.add(MaxPooling2D(pool_size = (2, 2)))\n",
        "\n",
        "model.add(Flatten())                                                                   #полносвязный слой\n",
        "\n",
        "model.add(Dense(units = 128, activation = 'relu'))                                     \n",
        "model.add(Dropout(0.5))\n",
        "model.add(Dense(units = 1, activation = 'sigmoid'))                                    #выходной слой\n",
        "\n",
        "Adam = keras.optimizers.Adam(lr = 0.0001)                                              #Алгоритм оптимизации градиентного спуска Адам\n",
        "model.compile(optimizer = Adam, loss = 'binary_crossentropy', metrics = ['accuracy'])  #Компиляция модели\n",
        "\n",
        "model.summary() #вывод содержимого сети\n"
      ],
      "execution_count": 0,
      "outputs": [
        {
          "output_type": "stream",
          "text": [
            "WARNING:tensorflow:From /usr/local/lib/python3.6/dist-packages/tensorflow/python/framework/op_def_library.py:263: colocate_with (from tensorflow.python.framework.ops) is deprecated and will be removed in a future version.\n",
            "Instructions for updating:\n",
            "Colocations handled automatically by placer.\n",
            "WARNING:tensorflow:From /usr/local/lib/python3.6/dist-packages/keras/backend/tensorflow_backend.py:3445: calling dropout (from tensorflow.python.ops.nn_ops) with keep_prob is deprecated and will be removed in a future version.\n",
            "Instructions for updating:\n",
            "Please use `rate` instead of `keep_prob`. Rate should be set to `rate = 1 - keep_prob`.\n",
            "_________________________________________________________________\n",
            "Layer (type)                 Output Shape              Param #   \n",
            "=================================================================\n",
            "conv2d_1 (Conv2D)            (None, 60, 60, 32)        2432      \n",
            "_________________________________________________________________\n",
            "batch_normalization_1 (Batch (None, 60, 60, 32)        128       \n",
            "_________________________________________________________________\n",
            "max_pooling2d_1 (MaxPooling2 (None, 30, 30, 32)        0         \n",
            "_________________________________________________________________\n",
            "conv2d_2 (Conv2D)            (None, 26, 26, 32)        25632     \n",
            "_________________________________________________________________\n",
            "batch_normalization_2 (Batch (None, 26, 26, 32)        128       \n",
            "_________________________________________________________________\n",
            "max_pooling2d_2 (MaxPooling2 (None, 13, 13, 32)        0         \n",
            "_________________________________________________________________\n",
            "conv2d_3 (Conv2D)            (None, 11, 11, 64)        18496     \n",
            "_________________________________________________________________\n",
            "batch_normalization_3 (Batch (None, 11, 11, 64)        256       \n",
            "_________________________________________________________________\n",
            "max_pooling2d_3 (MaxPooling2 (None, 5, 5, 64)          0         \n",
            "_________________________________________________________________\n",
            "flatten_1 (Flatten)          (None, 1600)              0         \n",
            "_________________________________________________________________\n",
            "dense_1 (Dense)              (None, 128)               204928    \n",
            "_________________________________________________________________\n",
            "dropout_1 (Dropout)          (None, 128)               0         \n",
            "_________________________________________________________________\n",
            "dense_2 (Dense)              (None, 1)                 129       \n",
            "=================================================================\n",
            "Total params: 252,129\n",
            "Trainable params: 251,873\n",
            "Non-trainable params: 256\n",
            "_________________________________________________________________\n"
          ],
          "name": "stdout"
        }
      ]
    },
    {
      "cell_type": "code",
      "metadata": {
        "id": "uixUxhecI71K",
        "colab_type": "code",
        "colab": {}
      },
      "source": [
        "##Архитектура сети "
      ],
      "execution_count": 0,
      "outputs": []
    },
    {
      "cell_type": "code",
      "metadata": {
        "id": "Ppr2ESOOI53I",
        "colab_type": "code",
        "outputId": "5879b0ca-ab46-4755-a460-407acebf538f",
        "colab": {
          "base_uri": "https://localhost:8080/",
          "height": 1346
        }
      },
      "source": [
        "SVG(model_to_dot(model).create(prog='dot', format='svg')) "
      ],
      "execution_count": 0,
      "outputs": [
        {
          "output_type": "execute_result",
          "data": {
            "text/plain": [
              "<IPython.core.display.SVG object>"
            ],
            "image/svg+xml": "<svg height=\"994pt\" viewBox=\"0.00 0.00 279.00 994.00\" width=\"279pt\" xmlns=\"http://www.w3.org/2000/svg\" xmlns:xlink=\"http://www.w3.org/1999/xlink\">\n<g class=\"graph\" id=\"graph0\" transform=\"scale(1 1) rotate(0) translate(4 990)\">\n<title>G</title>\n<polygon fill=\"#ffffff\" points=\"-4,4 -4,-990 275,-990 275,4 -4,4\" stroke=\"transparent\"/>\n<!-- 140320937299192 -->\n<g class=\"node\" id=\"node1\">\n<title>140320937299192</title>\n<polygon fill=\"none\" points=\"69,-876.5 69,-912.5 202,-912.5 202,-876.5 69,-876.5\" stroke=\"#000000\"/>\n<text fill=\"#000000\" font-family=\"Times,serif\" font-size=\"14.00\" text-anchor=\"middle\" x=\"135.5\" y=\"-890.8\">conv2d_1: Conv2D</text>\n</g>\n<!-- 140320937297848 -->\n<g class=\"node\" id=\"node2\">\n<title>140320937297848</title>\n<polygon fill=\"none\" points=\"0,-803.5 0,-839.5 271,-839.5 271,-803.5 0,-803.5\" stroke=\"#000000\"/>\n<text fill=\"#000000\" font-family=\"Times,serif\" font-size=\"14.00\" text-anchor=\"middle\" x=\"135.5\" y=\"-817.8\">batch_normalization_1: BatchNormalization</text>\n</g>\n<!-- 140320937299192&#45;&gt;140320937297848 -->\n<g class=\"edge\" id=\"edge2\">\n<title>140320937299192-&gt;140320937297848</title>\n<path d=\"M135.5,-876.4551C135.5,-868.3828 135.5,-858.6764 135.5,-849.6817\" fill=\"none\" stroke=\"#000000\"/>\n<polygon fill=\"#000000\" points=\"139.0001,-849.5903 135.5,-839.5904 132.0001,-849.5904 139.0001,-849.5903\" stroke=\"#000000\"/>\n</g>\n<!-- 140320888313280 -->\n<g class=\"node\" id=\"node3\">\n<title>140320888313280</title>\n<polygon fill=\"none\" points=\"25,-730.5 25,-766.5 246,-766.5 246,-730.5 25,-730.5\" stroke=\"#000000\"/>\n<text fill=\"#000000\" font-family=\"Times,serif\" font-size=\"14.00\" text-anchor=\"middle\" x=\"135.5\" y=\"-744.8\">max_pooling2d_1: MaxPooling2D</text>\n</g>\n<!-- 140320937297848&#45;&gt;140320888313280 -->\n<g class=\"edge\" id=\"edge3\">\n<title>140320937297848-&gt;140320888313280</title>\n<path d=\"M135.5,-803.4551C135.5,-795.3828 135.5,-785.6764 135.5,-776.6817\" fill=\"none\" stroke=\"#000000\"/>\n<polygon fill=\"#000000\" points=\"139.0001,-776.5903 135.5,-766.5904 132.0001,-776.5904 139.0001,-776.5903\" stroke=\"#000000\"/>\n</g>\n<!-- 140320888313112 -->\n<g class=\"node\" id=\"node4\">\n<title>140320888313112</title>\n<polygon fill=\"none\" points=\"69,-657.5 69,-693.5 202,-693.5 202,-657.5 69,-657.5\" stroke=\"#000000\"/>\n<text fill=\"#000000\" font-family=\"Times,serif\" font-size=\"14.00\" text-anchor=\"middle\" x=\"135.5\" y=\"-671.8\">conv2d_2: Conv2D</text>\n</g>\n<!-- 140320888313280&#45;&gt;140320888313112 -->\n<g class=\"edge\" id=\"edge4\">\n<title>140320888313280-&gt;140320888313112</title>\n<path d=\"M135.5,-730.4551C135.5,-722.3828 135.5,-712.6764 135.5,-703.6817\" fill=\"none\" stroke=\"#000000\"/>\n<polygon fill=\"#000000\" points=\"139.0001,-703.5903 135.5,-693.5904 132.0001,-703.5904 139.0001,-703.5903\" stroke=\"#000000\"/>\n</g>\n<!-- 140320854310864 -->\n<g class=\"node\" id=\"node5\">\n<title>140320854310864</title>\n<polygon fill=\"none\" points=\"0,-584.5 0,-620.5 271,-620.5 271,-584.5 0,-584.5\" stroke=\"#000000\"/>\n<text fill=\"#000000\" font-family=\"Times,serif\" font-size=\"14.00\" text-anchor=\"middle\" x=\"135.5\" y=\"-598.8\">batch_normalization_2: BatchNormalization</text>\n</g>\n<!-- 140320888313112&#45;&gt;140320854310864 -->\n<g class=\"edge\" id=\"edge5\">\n<title>140320888313112-&gt;140320854310864</title>\n<path d=\"M135.5,-657.4551C135.5,-649.3828 135.5,-639.6764 135.5,-630.6817\" fill=\"none\" stroke=\"#000000\"/>\n<polygon fill=\"#000000\" points=\"139.0001,-630.5903 135.5,-620.5904 132.0001,-630.5904 139.0001,-630.5903\" stroke=\"#000000\"/>\n</g>\n<!-- 140320794557128 -->\n<g class=\"node\" id=\"node6\">\n<title>140320794557128</title>\n<polygon fill=\"none\" points=\"25,-511.5 25,-547.5 246,-547.5 246,-511.5 25,-511.5\" stroke=\"#000000\"/>\n<text fill=\"#000000\" font-family=\"Times,serif\" font-size=\"14.00\" text-anchor=\"middle\" x=\"135.5\" y=\"-525.8\">max_pooling2d_2: MaxPooling2D</text>\n</g>\n<!-- 140320854310864&#45;&gt;140320794557128 -->\n<g class=\"edge\" id=\"edge6\">\n<title>140320854310864-&gt;140320794557128</title>\n<path d=\"M135.5,-584.4551C135.5,-576.3828 135.5,-566.6764 135.5,-557.6817\" fill=\"none\" stroke=\"#000000\"/>\n<polygon fill=\"#000000\" points=\"139.0001,-557.5903 135.5,-547.5904 132.0001,-557.5904 139.0001,-557.5903\" stroke=\"#000000\"/>\n</g>\n<!-- 140320794558192 -->\n<g class=\"node\" id=\"node7\">\n<title>140320794558192</title>\n<polygon fill=\"none\" points=\"69,-438.5 69,-474.5 202,-474.5 202,-438.5 69,-438.5\" stroke=\"#000000\"/>\n<text fill=\"#000000\" font-family=\"Times,serif\" font-size=\"14.00\" text-anchor=\"middle\" x=\"135.5\" y=\"-452.8\">conv2d_3: Conv2D</text>\n</g>\n<!-- 140320794557128&#45;&gt;140320794558192 -->\n<g class=\"edge\" id=\"edge7\">\n<title>140320794557128-&gt;140320794558192</title>\n<path d=\"M135.5,-511.4551C135.5,-503.3828 135.5,-493.6764 135.5,-484.6817\" fill=\"none\" stroke=\"#000000\"/>\n<polygon fill=\"#000000\" points=\"139.0001,-484.5903 135.5,-474.5904 132.0001,-484.5904 139.0001,-484.5903\" stroke=\"#000000\"/>\n</g>\n<!-- 140320794273440 -->\n<g class=\"node\" id=\"node8\">\n<title>140320794273440</title>\n<polygon fill=\"none\" points=\"0,-365.5 0,-401.5 271,-401.5 271,-365.5 0,-365.5\" stroke=\"#000000\"/>\n<text fill=\"#000000\" font-family=\"Times,serif\" font-size=\"14.00\" text-anchor=\"middle\" x=\"135.5\" y=\"-379.8\">batch_normalization_3: BatchNormalization</text>\n</g>\n<!-- 140320794558192&#45;&gt;140320794273440 -->\n<g class=\"edge\" id=\"edge8\">\n<title>140320794558192-&gt;140320794273440</title>\n<path d=\"M135.5,-438.4551C135.5,-430.3828 135.5,-420.6764 135.5,-411.6817\" fill=\"none\" stroke=\"#000000\"/>\n<polygon fill=\"#000000\" points=\"139.0001,-411.5903 135.5,-401.5904 132.0001,-411.5904 139.0001,-411.5903\" stroke=\"#000000\"/>\n</g>\n<!-- 140320793487848 -->\n<g class=\"node\" id=\"node9\">\n<title>140320793487848</title>\n<polygon fill=\"none\" points=\"25,-292.5 25,-328.5 246,-328.5 246,-292.5 25,-292.5\" stroke=\"#000000\"/>\n<text fill=\"#000000\" font-family=\"Times,serif\" font-size=\"14.00\" text-anchor=\"middle\" x=\"135.5\" y=\"-306.8\">max_pooling2d_3: MaxPooling2D</text>\n</g>\n<!-- 140320794273440&#45;&gt;140320793487848 -->\n<g class=\"edge\" id=\"edge9\">\n<title>140320794273440-&gt;140320793487848</title>\n<path d=\"M135.5,-365.4551C135.5,-357.3828 135.5,-347.6764 135.5,-338.6817\" fill=\"none\" stroke=\"#000000\"/>\n<polygon fill=\"#000000\" points=\"139.0001,-338.5903 135.5,-328.5904 132.0001,-338.5904 139.0001,-338.5903\" stroke=\"#000000\"/>\n</g>\n<!-- 140320794099440 -->\n<g class=\"node\" id=\"node10\">\n<title>140320794099440</title>\n<polygon fill=\"none\" points=\"79,-219.5 79,-255.5 192,-255.5 192,-219.5 79,-219.5\" stroke=\"#000000\"/>\n<text fill=\"#000000\" font-family=\"Times,serif\" font-size=\"14.00\" text-anchor=\"middle\" x=\"135.5\" y=\"-233.8\">flatten_1: Flatten</text>\n</g>\n<!-- 140320793487848&#45;&gt;140320794099440 -->\n<g class=\"edge\" id=\"edge10\">\n<title>140320793487848-&gt;140320794099440</title>\n<path d=\"M135.5,-292.4551C135.5,-284.3828 135.5,-274.6764 135.5,-265.6817\" fill=\"none\" stroke=\"#000000\"/>\n<polygon fill=\"#000000\" points=\"139.0001,-265.5903 135.5,-255.5904 132.0001,-265.5904 139.0001,-265.5903\" stroke=\"#000000\"/>\n</g>\n<!-- 140320793251512 -->\n<g class=\"node\" id=\"node11\">\n<title>140320793251512</title>\n<polygon fill=\"none\" points=\"82,-146.5 82,-182.5 189,-182.5 189,-146.5 82,-146.5\" stroke=\"#000000\"/>\n<text fill=\"#000000\" font-family=\"Times,serif\" font-size=\"14.00\" text-anchor=\"middle\" x=\"135.5\" y=\"-160.8\">dense_1: Dense</text>\n</g>\n<!-- 140320794099440&#45;&gt;140320793251512 -->\n<g class=\"edge\" id=\"edge11\">\n<title>140320794099440-&gt;140320793251512</title>\n<path d=\"M135.5,-219.4551C135.5,-211.3828 135.5,-201.6764 135.5,-192.6817\" fill=\"none\" stroke=\"#000000\"/>\n<polygon fill=\"#000000\" points=\"139.0001,-192.5903 135.5,-182.5904 132.0001,-192.5904 139.0001,-192.5903\" stroke=\"#000000\"/>\n</g>\n<!-- 140320793349928 -->\n<g class=\"node\" id=\"node12\">\n<title>140320793349928</title>\n<polygon fill=\"none\" points=\"68.5,-73.5 68.5,-109.5 202.5,-109.5 202.5,-73.5 68.5,-73.5\" stroke=\"#000000\"/>\n<text fill=\"#000000\" font-family=\"Times,serif\" font-size=\"14.00\" text-anchor=\"middle\" x=\"135.5\" y=\"-87.8\">dropout_1: Dropout</text>\n</g>\n<!-- 140320793251512&#45;&gt;140320793349928 -->\n<g class=\"edge\" id=\"edge12\">\n<title>140320793251512-&gt;140320793349928</title>\n<path d=\"M135.5,-146.4551C135.5,-138.3828 135.5,-128.6764 135.5,-119.6817\" fill=\"none\" stroke=\"#000000\"/>\n<polygon fill=\"#000000\" points=\"139.0001,-119.5903 135.5,-109.5904 132.0001,-119.5904 139.0001,-119.5903\" stroke=\"#000000\"/>\n</g>\n<!-- 140320792220784 -->\n<g class=\"node\" id=\"node13\">\n<title>140320792220784</title>\n<polygon fill=\"none\" points=\"82,-.5 82,-36.5 189,-36.5 189,-.5 82,-.5\" stroke=\"#000000\"/>\n<text fill=\"#000000\" font-family=\"Times,serif\" font-size=\"14.00\" text-anchor=\"middle\" x=\"135.5\" y=\"-14.8\">dense_2: Dense</text>\n</g>\n<!-- 140320793349928&#45;&gt;140320792220784 -->\n<g class=\"edge\" id=\"edge13\">\n<title>140320793349928-&gt;140320792220784</title>\n<path d=\"M135.5,-73.4551C135.5,-65.3828 135.5,-55.6764 135.5,-46.6817\" fill=\"none\" stroke=\"#000000\"/>\n<polygon fill=\"#000000\" points=\"139.0001,-46.5903 135.5,-36.5904 132.0001,-46.5904 139.0001,-46.5903\" stroke=\"#000000\"/>\n</g>\n<!-- 140320888312776 -->\n<g class=\"node\" id=\"node14\">\n<title>140320888312776</title>\n<polygon fill=\"none\" points=\"71,-949.5 71,-985.5 200,-985.5 200,-949.5 71,-949.5\" stroke=\"#000000\"/>\n<text fill=\"#000000\" font-family=\"Times,serif\" font-size=\"14.00\" text-anchor=\"middle\" x=\"135.5\" y=\"-963.8\">140320888312776</text>\n</g>\n<!-- 140320888312776&#45;&gt;140320937299192 -->\n<g class=\"edge\" id=\"edge1\">\n<title>140320888312776-&gt;140320937299192</title>\n<path d=\"M135.5,-949.4551C135.5,-941.3828 135.5,-931.6764 135.5,-922.6817\" fill=\"none\" stroke=\"#000000\"/>\n<polygon fill=\"#000000\" points=\"139.0001,-922.5903 135.5,-912.5904 132.0001,-922.5904 139.0001,-922.5903\" stroke=\"#000000\"/>\n</g>\n</g>\n</svg>"
          },
          "metadata": {
            "tags": []
          },
          "execution_count": 9
        }
      ]
    },
    {
      "cell_type": "markdown",
      "metadata": {
        "id": "ovulFVBmJXhU",
        "colab_type": "text"
      },
      "source": [
        "##тренировка сети "
      ]
    },
    {
      "cell_type": "code",
      "metadata": {
        "id": "iawd-9klJPpu",
        "colab_type": "code",
        "outputId": "7bf7857a-6879-4703-8f9b-3fc33d40c3e8",
        "colab": {
          "base_uri": "https://localhost:8080/",
          "height": 785
        }
      },
      "source": [
        "#Функция обучения сети\n",
        "model.fit_generator(train_generator, steps_per_epoch = 40, validation_data = test_generator, validation_steps = 4, epochs = 20)"
      ],
      "execution_count": 0,
      "outputs": [
        {
          "output_type": "stream",
          "text": [
            "WARNING:tensorflow:From /usr/local/lib/python3.6/dist-packages/tensorflow/python/ops/math_ops.py:3066: to_int32 (from tensorflow.python.ops.math_ops) is deprecated and will be removed in a future version.\n",
            "Instructions for updating:\n",
            "Use tf.cast instead.\n",
            "Epoch 1/20\n",
            "40/40 [==============================] - 9s 236ms/step - loss: 0.1363 - acc: 0.9450 - val_loss: 4.5062e-05 - val_acc: 1.0000\n",
            "Epoch 2/20\n",
            "40/40 [==============================] - 8s 200ms/step - loss: 0.0039 - acc: 1.0000 - val_loss: 2.0467e-05 - val_acc: 1.0000\n",
            "Epoch 3/20\n",
            "40/40 [==============================] - 8s 204ms/step - loss: 0.0013 - acc: 1.0000 - val_loss: 1.8155e-05 - val_acc: 1.0000\n",
            "Epoch 4/20\n",
            "40/40 [==============================] - 8s 201ms/step - loss: 0.0011 - acc: 1.0000 - val_loss: 1.7410e-05 - val_acc: 1.0000\n",
            "Epoch 5/20\n",
            "40/40 [==============================] - 8s 200ms/step - loss: 4.5338e-04 - acc: 1.0000 - val_loss: 1.6628e-05 - val_acc: 1.0000\n",
            "Epoch 6/20\n",
            "40/40 [==============================] - 8s 199ms/step - loss: 0.0025 - acc: 0.9975 - val_loss: 8.6030e-05 - val_acc: 1.0000\n",
            "Epoch 7/20\n",
            "40/40 [==============================] - 8s 200ms/step - loss: 6.3137e-04 - acc: 1.0000 - val_loss: 3.4087e-05 - val_acc: 1.0000\n",
            "Epoch 8/20\n",
            "40/40 [==============================] - 8s 198ms/step - loss: 5.4364e-04 - acc: 1.0000 - val_loss: 1.0826e-05 - val_acc: 1.0000\n",
            "Epoch 9/20\n",
            "40/40 [==============================] - 8s 198ms/step - loss: 3.6562e-04 - acc: 1.0000 - val_loss: 6.9687e-06 - val_acc: 1.0000\n",
            "Epoch 10/20\n",
            "40/40 [==============================] - 8s 197ms/step - loss: 1.0895e-04 - acc: 1.0000 - val_loss: 6.6285e-06 - val_acc: 1.0000\n",
            "Epoch 11/20\n",
            "40/40 [==============================] - 8s 197ms/step - loss: 1.3293e-04 - acc: 1.0000 - val_loss: 6.1568e-06 - val_acc: 1.0000\n",
            "Epoch 12/20\n",
            "40/40 [==============================] - 8s 198ms/step - loss: 4.4458e-04 - acc: 1.0000 - val_loss: 3.9698e-06 - val_acc: 1.0000\n",
            "Epoch 13/20\n",
            "40/40 [==============================] - 8s 198ms/step - loss: 1.9769e-04 - acc: 1.0000 - val_loss: 3.4758e-06 - val_acc: 1.0000\n",
            "Epoch 14/20\n",
            "40/40 [==============================] - 8s 199ms/step - loss: 1.4521e-04 - acc: 1.0000 - val_loss: 3.3920e-06 - val_acc: 1.0000\n",
            "Epoch 15/20\n",
            "40/40 [==============================] - 8s 200ms/step - loss: 3.9565e-04 - acc: 1.0000 - val_loss: 2.5015e-06 - val_acc: 1.0000\n",
            "Epoch 16/20\n",
            "40/40 [==============================] - 8s 208ms/step - loss: 6.3463e-05 - acc: 1.0000 - val_loss: 2.5667e-06 - val_acc: 1.0000\n",
            "Epoch 17/20\n",
            "40/40 [==============================] - 8s 203ms/step - loss: 1.0043e-04 - acc: 1.0000 - val_loss: 2.5706e-06 - val_acc: 1.0000\n",
            "Epoch 18/20\n",
            "40/40 [==============================] - 8s 200ms/step - loss: 4.9811e-05 - acc: 1.0000 - val_loss: 2.4911e-06 - val_acc: 1.0000\n",
            "Epoch 19/20\n",
            "40/40 [==============================] - 8s 201ms/step - loss: 1.9737e-04 - acc: 1.0000 - val_loss: 2.1323e-06 - val_acc: 1.0000\n",
            "Epoch 20/20\n",
            "40/40 [==============================] - 8s 200ms/step - loss: 1.7909e-04 - acc: 1.0000 - val_loss: 1.5770e-06 - val_acc: 1.0000\n"
          ],
          "name": "stdout"
        },
        {
          "output_type": "execute_result",
          "data": {
            "text/plain": [
              "<keras.callbacks.History at 0x7f9efae05908>"
            ]
          },
          "metadata": {
            "tags": []
          },
          "execution_count": 10
        }
      ]
    },
    {
      "cell_type": "markdown",
      "metadata": {
        "id": "TJbS1JHVMYco",
        "colab_type": "text"
      },
      "source": [
        "##Матрица ошибок"
      ]
    },
    {
      "cell_type": "code",
      "metadata": {
        "id": "D1dHxf90MX-O",
        "colab_type": "code",
        "outputId": "e84f2e10-e183-4c93-bc9b-957433961b00",
        "colab": {
          "base_uri": "https://localhost:8080/",
          "height": 170
        }
      },
      "source": [
        "Y_pred = model.predict_generator(test_generator, steps = 4)\n",
        "y_pred = np.round(Y_pred, 0)\n",
        "cm = confusion_matrix(test_generator.classes, y_pred)\n",
        "target_names = ['Circle', 'Square']\n",
        "print(classification_report(test_generator.classes, y_pred, target_names=target_names))"
      ],
      "execution_count": 0,
      "outputs": [
        {
          "output_type": "stream",
          "text": [
            "              precision    recall  f1-score   support\n",
            "\n",
            "      Circle       1.00      1.00      1.00        20\n",
            "      Square       1.00      1.00      1.00        20\n",
            "\n",
            "    accuracy                           1.00        40\n",
            "   macro avg       1.00      1.00      1.00        40\n",
            "weighted avg       1.00      1.00      1.00        40\n",
            "\n"
          ],
          "name": "stdout"
        }
      ]
    },
    {
      "cell_type": "markdown",
      "metadata": {
        "id": "Vv0nSLZ4OaxE",
        "colab_type": "text"
      },
      "source": [
        "##Визуализация матрицы"
      ]
    },
    {
      "cell_type": "code",
      "metadata": {
        "id": "zD_znD39OBel",
        "colab_type": "code",
        "outputId": "e3ecd221-f47e-4231-bbe7-97b15d56029d",
        "colab": {
          "base_uri": "https://localhost:8080/",
          "height": 379
        }
      },
      "source": [
        "def plot_confusion_matrix(cm, classes, normalize=False, title='Confusion matrix', cmap=plt.cm.Blues):\n",
        "  plt.imshow(cm, interpolation='nearest', cmap=cmap)\n",
        "  plt.title(title)\n",
        "  plt.colorbar()\n",
        "  tick_marks = np.arange(len(classes))\n",
        "  plt.xticks(tick_marks, classes, rotation = 45)\n",
        "  plt.yticks(tick_marks, classes)\n",
        "  \n",
        "  if normalize:\n",
        "    cm = cm.astype('float') / cm.sum(axis=1)[:, np.newaxis]\n",
        "    print(\"Normalized confusion matrix\")\n",
        "  else:\n",
        "    print('Confusion matrix, without normalisation')\n",
        "    \n",
        "thresh = cm.max() / 2\n",
        "for i, j in itertools.product(range(cm.shape[0]), range(cm.shape[1])):\n",
        "  plt.text(j, i, cm[i, j],\n",
        "          horizontalalignment=\"center\",\n",
        "          color=\"black\" if cm[i, j] > thresh else \"black\")\n",
        "           \n",
        "plt.tight_layout()\n",
        "plt.ylabel('True label')\n",
        "plt.xlabel('Predicted label')\n",
        "plt.grid(False)\n",
        "cm_plot_labels = ['Окружность', 'Квадрат']\n",
        "plot_confusion_matrix(cm, cm_plot_labels, title='Confusion Matrix')\n"
      ],
      "execution_count": 0,
      "outputs": [
        {
          "output_type": "stream",
          "text": [
            "Confusion matrix, without normalisation\n"
          ],
          "name": "stdout"
        },
        {
          "output_type": "display_data",
          "data": {
            "image/png": "[encoded data removed]",
            "text/plain": [
              "<Figure size 432x288 with 2 Axes>"
            ]
          },
          "metadata": {
            "tags": []
          }
        }
      ]
    },
    {
      "cell_type": "code",
      "metadata": {
        "id": "0tUxzw5n_bRn",
        "colab_type": "code",
        "colab": {}
      },
      "source": [
        "!mkdir -p /content/gdrive/'My Drive'/SET/test \n",
        "addr = '/content/gdrive/' + 'My Drive' + '/SET/test/'\n",
        "def one_predict(i):\n",
        "  pic =  addr + str(i) + '.jpg'\n",
        "  \n",
        "  img = plt.imread(pic)\n",
        "  plt.imshow(img)\n",
        "  img = np.expand_dims(img, 0)\n",
        "\n",
        "  if np.round(model.predict(img)) == 0:\n",
        "    print('Circle')\n",
        "  else:\n",
        "    print('Square')"
      ],
      "execution_count": 0,
      "outputs": []
    },
    {
      "cell_type": "code",
      "metadata": {
        "id": "KP5ABrK5Bbso",
        "colab_type": "code",
        "outputId": "dd66448f-ce5d-434e-993a-75540614df18",
        "colab": {
          "base_uri": "https://localhost:8080/",
          "height": 286
        }
      },
      "source": [
        "one_predict(1)"
      ],
      "execution_count": 0,
      "outputs": [
        {
          "output_type": "stream",
          "text": [
            "Square\n"
          ],
          "name": "stdout"
        },
        {
          "output_type": "display_data",
          "data": {
            "image/png": "[encoded data removed]",
            "text/plain": [
              "<Figure size 432x288 with 1 Axes>"
            ]
          },
          "metadata": {
            "tags": []
          }
        }
      ]
    },
    {
      "cell_type": "code",
      "metadata": {
        "id": "ONQ3QYzmCOJP",
        "colab_type": "code",
        "outputId": "d24a8a08-0828-4716-fdd3-7f07d0248095",
        "colab": {
          "base_uri": "https://localhost:8080/",
          "height": 286
        }
      },
      "source": [
        "one_predict(2)"
      ],
      "execution_count": 0,
      "outputs": [
        {
          "output_type": "stream",
          "text": [
            "Circle\n"
          ],
          "name": "stdout"
        },
        {
          "output_type": "display_data",
          "data": {
            "image/png": "[encoded data removed]",
            "text/plain": [
              "<Figure size 432x288 with 1 Axes>"
            ]
          },
          "metadata": {
            "tags": []
          }
        }
      ]
    },
    {
      "cell_type": "code",
      "metadata": {
        "id": "QMOf-Bl6COyQ",
        "colab_type": "code",
        "outputId": "a3bb3436-9091-49dd-c7a9-8687912e4ab4",
        "colab": {
          "base_uri": "https://localhost:8080/",
          "height": 286
        }
      },
      "source": [
        "one_predict(3)"
      ],
      "execution_count": 0,
      "outputs": [
        {
          "output_type": "stream",
          "text": [
            "Circle\n"
          ],
          "name": "stdout"
        },
        {
          "output_type": "display_data",
          "data": {
            "image/png": "[encoded data removed]",
            "text/plain": [
              "<Figure size 432x288 with 1 Axes>"
            ]
          },
          "metadata": {
            "tags": []
          }
        }
      ]
    },
    {
      "cell_type": "markdown",
      "metadata": {
        "id": "nJAVo0DIOP5S",
        "colab_type": "text"
      },
      "source": [
        "##Сохранение весов и сети"
      ]
    },
    {
      "cell_type": "code",
      "metadata": {
        "id": "9xHqsKbAOLm4",
        "colab_type": "code",
        "colab": {}
      },
      "source": [
        "#Сохранение весов и сети\n",
        "addr = '/content/gdrive/' + 'My Drive' + '/SET/weightsBA.h5'\n",
        "addr1 = '/content/gdrive/' + 'My Drive' + '/SET/netBA.h5'\n",
        "!rm /content/gdrive/'My Drive'/SET/netBA.h5\n",
        "!rm /content/gdrive/'My Drive'/SET/weightsBA.h5\n",
        "\n",
        "model.save_weights(addr)\n",
        "model.save(addr1)"
      ],
      "execution_count": 0,
      "outputs": []
    }
  ]
}